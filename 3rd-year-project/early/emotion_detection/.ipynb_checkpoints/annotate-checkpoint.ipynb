{
 "cells": [
  {
   "cell_type": "code",
   "execution_count": 4,
   "metadata": {},
   "outputs": [
    {
     "name": "stdout",
     "output_type": "stream",
     "text": [
      "Index(['clean_text', 'is_depression', 'Emotion'], dtype='object')\n",
      "Annotation complete. Results saved to 'annotated_dataset.csv'.\n"
     ]
    }
   ],
   "source": [
    "import openai\n",
    "import pandas as pd\n",
    "import os\n",
    "from dotenv import load_dotenv\n",
    "\n",
    "load_dotenv()\n",
    "\n",
    "# Set up OpenAI API key\n",
    "openai.api_key = os.getenv(\"OPENAI_API_KEY\")\n",
    "\n",
    "# Load your dataset\n",
    "df = pd.read_csv(\"D1.csv\")\n",
    "print(df.columns)\n",
    "# Annotate dataset\n",
    "def annotate_text(text, text_id):\n",
    "    prompt = f\"\"\"\n",
    "    You are an expert in emotion detection. Analyze the following text sentence by sentence and assign an emotion from the given categories to each sentence.\n",
    "\n",
    "    Emotion categories:\n",
    "    1. Aesthetic Experience\n",
    "    2. Anger\n",
    "    3. Anxiety\n",
    "    4. Compassion\n",
    "    5. Depression\n",
    "    6. Envy\n",
    "    7. Fright\n",
    "    8. Gratitude\n",
    "    9. Guilt\n",
    "    10. Happiness\n",
    "    11. Hope\n",
    "    12. Jealousy\n",
    "    13. Love\n",
    "    14. Pride\n",
    "    15. Relief\n",
    "    16. Sadness\n",
    "    17. Shame\n",
    "\n",
    "    For the given text, respond in the format:\n",
    "    ID: {text_id} | Label: [Emotion1][Emotion2][Emotion3]...\n",
    "\n",
    "    Each emotion in the response should correspond to a sentence in the text in the same order the sentences appear. If the number of sentences is unclear, deduce them based on logical segmentation of the text. If a sentence is ambiguous or does not clearly express an emotion, assign \"Ambiguous\" as the label. Ensure that the number of emotions matches the number of sentences.\n",
    "\n",
    "    Text:\n",
    "    {text}\n",
    "    \"\"\"\n",
    "\n",
    "    try:\n",
    "        response = openai.ChatCompletion.create(\n",
    "            model=\"gpt-4o\",\n",
    "            messages=[{\"role\": \"system\", \"content\": \"You are a helpful assistant.\"},\n",
    "                      {\"role\": \"user\", \"content\": prompt}],\n",
    "            max_tokens=50\n",
    "        )\n",
    "        return response['choices'][0]['message']['content']\n",
    "    except Exception as e:\n",
    "        print(f\"Error processing ID {text_id}: {e}\")\n",
    "        return \"Error\"\n",
    "\n",
    "# Apply annotation\n",
    "df['Emotion'] = df.apply(lambda row: annotate_text(row['clean_text'], row['is_depression']), axis=1)\n",
    "\n",
    "# Save the annotated dataset\n",
    "df.to_csv(\"annotated_dataset.csv\", index=False)\n",
    "print(\"Annotation complete. Results saved to 'annotated_dataset.csv'.\")\n"
   ]
  },
  {
   "cell_type": "code",
   "execution_count": null,
   "metadata": {},
   "outputs": [],
   "source": []
  },
  {
   "cell_type": "code",
   "execution_count": null,
   "metadata": {},
   "outputs": [],
   "source": []
  }
 ],
 "metadata": {
  "kernelspec": {
   "display_name": "Environment (llm)",
   "language": "python",
   "name": "myenv"
  },
  "language_info": {
   "codemirror_mode": {
    "name": "ipython",
    "version": 3
   },
   "file_extension": ".py",
   "mimetype": "text/x-python",
   "name": "python",
   "nbconvert_exporter": "python",
   "pygments_lexer": "ipython3",
   "version": "3.10.4"
  }
 },
 "nbformat": 4,
 "nbformat_minor": 2
}
