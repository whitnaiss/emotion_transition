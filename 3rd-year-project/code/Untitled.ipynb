{
 "cells": [
  {
   "cell_type": "code",
   "execution_count": 3,
   "id": "8bc14cad-5e81-44d1-87d1-3d8cfc96b46e",
   "metadata": {},
   "outputs": [],
   "source": [
    "import pandas as pd "
   ]
  },
  {
   "cell_type": "code",
   "execution_count": 6,
   "id": "86676684-f34d-45f6-b884-e0092a8fc6bb",
   "metadata": {},
   "outputs": [],
   "source": [
    "train_df = pd.read_csv('train.csv')\n",
    "val_df = pd.read_csv('val.csv')\n",
    "df_all = pd.concat([train_df, val_df])\n",
    "df_all.to_csv('train_all.csv', index=False) "
   ]
  },
  {
   "cell_type": "code",
   "execution_count": 7,
   "id": "28d42fa0-14d8-4faa-80ed-034f90ee8f13",
   "metadata": {},
   "outputs": [
    {
     "data": {
      "text/html": [
       "<div>\n",
       "<style scoped>\n",
       "    .dataframe tbody tr th:only-of-type {\n",
       "        vertical-align: middle;\n",
       "    }\n",
       "\n",
       "    .dataframe tbody tr th {\n",
       "        vertical-align: top;\n",
       "    }\n",
       "\n",
       "    .dataframe thead th {\n",
       "        text-align: right;\n",
       "    }\n",
       "</style>\n",
       "<table border=\"1\" class=\"dataframe\">\n",
       "  <thead>\n",
       "    <tr style=\"text-align: right;\">\n",
       "      <th></th>\n",
       "      <th>id</th>\n",
       "      <th>text</th>\n",
       "      <th>label</th>\n",
       "    </tr>\n",
       "  </thead>\n",
       "  <tbody>\n",
       "    <tr>\n",
       "      <th>0</th>\n",
       "      <td>709201371262636032</td>\n",
       "      <td>@SsjNarcy my audience is 18-34 and I was diagn...</td>\n",
       "      <td>positive</td>\n",
       "    </tr>\n",
       "    <tr>\n",
       "      <th>1</th>\n",
       "      <td>670025381416570880</td>\n",
       "      <td>@natajunkie @AbelDelRey_ I was diagnosed w dep...</td>\n",
       "      <td>positive</td>\n",
       "    </tr>\n",
       "    <tr>\n",
       "      <th>2</th>\n",
       "      <td>819457188963975168</td>\n",
       "      <td>Why do people act surprised when after I cuss ...</td>\n",
       "      <td>negative</td>\n",
       "    </tr>\n",
       "    <tr>\n",
       "      <th>3</th>\n",
       "      <td>695310130485661697</td>\n",
       "      <td>#timetotalkday2016 #mhchat \\n\\nI was diagnosed...</td>\n",
       "      <td>positive</td>\n",
       "    </tr>\n",
       "    <tr>\n",
       "      <th>4</th>\n",
       "      <td>512593807754285056</td>\n",
       "      <td>\"Me? I'm diagnosed with Major Depression Disor...</td>\n",
       "      <td>positive</td>\n",
       "    </tr>\n",
       "    <tr>\n",
       "      <th>...</th>\n",
       "      <td>...</td>\n",
       "      <td>...</td>\n",
       "      <td>...</td>\n",
       "    </tr>\n",
       "    <tr>\n",
       "      <th>115</th>\n",
       "      <td>819457349299511296</td>\n",
       "      <td>I've been slacking on church, I need to get it...</td>\n",
       "      <td>negative</td>\n",
       "    </tr>\n",
       "    <tr>\n",
       "      <th>116</th>\n",
       "      <td>552263295881981953</td>\n",
       "      <td>3 years ago tomorrow 07/01/2012 I was diagnose...</td>\n",
       "      <td>positive</td>\n",
       "    </tr>\n",
       "    <tr>\n",
       "      <th>117</th>\n",
       "      <td>560453769763520514</td>\n",
       "      <td>About 3 1/2 years ago I was diagnosed with pan...</td>\n",
       "      <td>positive</td>\n",
       "    </tr>\n",
       "    <tr>\n",
       "      <th>118</th>\n",
       "      <td>506073511983874050</td>\n",
       "      <td>@Dreaminskinny it's the same as people who hav...</td>\n",
       "      <td>positive</td>\n",
       "    </tr>\n",
       "    <tr>\n",
       "      <th>119</th>\n",
       "      <td>437922512731525120</td>\n",
       "      <td>I have been diagnosed by doctor of having anxi...</td>\n",
       "      <td>positive</td>\n",
       "    </tr>\n",
       "  </tbody>\n",
       "</table>\n",
       "<p>800 rows × 3 columns</p>\n",
       "</div>"
      ],
      "text/plain": [
       "                     id                                               text  \\\n",
       "0    709201371262636032  @SsjNarcy my audience is 18-34 and I was diagn...   \n",
       "1    670025381416570880  @natajunkie @AbelDelRey_ I was diagnosed w dep...   \n",
       "2    819457188963975168  Why do people act surprised when after I cuss ...   \n",
       "3    695310130485661697  #timetotalkday2016 #mhchat \\n\\nI was diagnosed...   \n",
       "4    512593807754285056  \"Me? I'm diagnosed with Major Depression Disor...   \n",
       "..                  ...                                                ...   \n",
       "115  819457349299511296  I've been slacking on church, I need to get it...   \n",
       "116  552263295881981953  3 years ago tomorrow 07/01/2012 I was diagnose...   \n",
       "117  560453769763520514  About 3 1/2 years ago I was diagnosed with pan...   \n",
       "118  506073511983874050  @Dreaminskinny it's the same as people who hav...   \n",
       "119  437922512731525120  I have been diagnosed by doctor of having anxi...   \n",
       "\n",
       "        label  \n",
       "0    positive  \n",
       "1    positive  \n",
       "2    negative  \n",
       "3    positive  \n",
       "4    positive  \n",
       "..        ...  \n",
       "115  negative  \n",
       "116  positive  \n",
       "117  positive  \n",
       "118  positive  \n",
       "119  positive  \n",
       "\n",
       "[800 rows x 3 columns]"
      ]
     },
     "execution_count": 7,
     "metadata": {},
     "output_type": "execute_result"
    }
   ],
   "source": [
    "df_all"
   ]
  },
  {
   "cell_type": "code",
   "execution_count": 8,
   "id": "03812c18-a6c8-437f-b592-ded55efa67d4",
   "metadata": {},
   "outputs": [
    {
     "data": {
      "text/plain": [
       "label\n",
       "negative    403\n",
       "positive    397\n",
       "Name: count, dtype: int64"
      ]
     },
     "execution_count": 8,
     "metadata": {},
     "output_type": "execute_result"
    }
   ],
   "source": [
    "df_all['label'].value_counts() "
   ]
  },
  {
   "cell_type": "code",
   "execution_count": null,
   "id": "637c47cc-d1fd-490f-b58c-3bd94a6e3536",
   "metadata": {},
   "outputs": [],
   "source": []
  },
  {
   "cell_type": "code",
   "execution_count": null,
   "id": "e41ebd17-a308-4870-96cf-957d9591d7c7",
   "metadata": {},
   "outputs": [],
   "source": []
  },
  {
   "cell_type": "code",
   "execution_count": null,
   "id": "d72cfbb2-ca2b-44b9-b0fe-0a8b8f51bed6",
   "metadata": {},
   "outputs": [],
   "source": []
  },
  {
   "cell_type": "code",
   "execution_count": null,
   "id": "0fe4278b-bb7f-4768-b548-29d2525d79d1",
   "metadata": {},
   "outputs": [],
   "source": []
  },
  {
   "cell_type": "code",
   "execution_count": null,
   "id": "fd48a4b7-7c7a-4150-88db-e98bde88c967",
   "metadata": {},
   "outputs": [],
   "source": []
  },
  {
   "cell_type": "code",
   "execution_count": null,
   "id": "2c7537be-20b5-433a-8b7d-0597e88d3616",
   "metadata": {},
   "outputs": [],
   "source": []
  }
 ],
 "metadata": {
  "kernelspec": {
   "display_name": "Python 3 (ipykernel)",
   "language": "python",
   "name": "python3"
  },
  "language_info": {
   "codemirror_mode": {
    "name": "ipython",
    "version": 3
   },
   "file_extension": ".py",
   "mimetype": "text/x-python",
   "name": "python",
   "nbconvert_exporter": "python",
   "pygments_lexer": "ipython3",
   "version": "3.12.3"
  }
 },
 "nbformat": 4,
 "nbformat_minor": 5
}
